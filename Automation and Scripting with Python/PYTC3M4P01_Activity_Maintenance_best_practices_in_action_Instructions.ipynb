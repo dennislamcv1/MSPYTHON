{
  "nbformat": 4,
  "nbformat_minor": 0,
  "metadata": {
    "colab": {
      "provenance": []
    },
    "kernelspec": {
      "name": "python3",
      "display_name": "Python 3"
    },
    "language_info": {
      "name": "python"
    }
  },
  "cells": [
    {
      "cell_type": "markdown",
      "source": [
        "## Scenario\n",
        "\n",
        "You are a data analyst at a sports news website. You are responsible for gathering sports statistics. The company requires automated scripts to periodically update game data. You have gathering sports statistics from a sports API and automating the delivery of the data to your desktop every morning. Until now, you have been manually making note of each set of stats that gets delivered to your desktop. To make your recording process easier and less prone to errors, you have been asked to create a process that automatically records the sports data in an Excel spreadsheet each morning.\n",
        "\n",
        "\n",
        "## Objective\n",
        "\n",
        "The goal of this project is to have you apply maintenance best practices to an automation script, to improve efficiency and troubleshoot errors. You will also implement basic logging and make a small code modification to address a potential issue.\n",
        "\n",
        "Please complete all steps within this notebook as you follow the instructions in the assignment."
      ],
      "metadata": {
        "id": "GLIuGGQEv05Y"
      }
    },
    {
      "cell_type": "code",
      "execution_count": null,
      "metadata": {
        "id": "kI-mWyE1vzQx"
      },
      "outputs": [],
      "source": [
        "# Your code here..."
      ]
    }
  ]
}