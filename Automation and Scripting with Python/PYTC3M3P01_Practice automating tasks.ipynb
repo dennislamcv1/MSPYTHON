{
  "nbformat": 4,
  "nbformat_minor": 0,
  "metadata": {
    "colab": {
      "provenance": []
    },
    "kernelspec": {
      "name": "python3",
      "display_name": "Python 3"
    },
    "language_info": {
      "name": "python"
    }
  },
  "cells": [
    {
      "cell_type": "markdown",
      "source": [
        "## Scenario\n",
        "\n",
        "You are a data analyst at a sports news website! You are responsible for gathering sports statistics. The company requires automated scripts to periodically update game data. You will use a sports data API to gather statistics and automate the delivery of them to your desktop each day.\n",
        "\n",
        "## Objective\n",
        "\n",
        "This activity aims to teach students how to automate a real-world task by combining API interactions, scripting, and task scheduling to create a system that fetches live sports scores and delivers them as desktop notifications at regular intervals.\n",
        "\n",
        "Please complete all steps within this notebook as you follow the instructions in the assignment."
      ],
      "metadata": {
        "id": "GLIuGGQEv05Y"
      }
    },
    {
      "cell_type": "code",
      "execution_count": null,
      "metadata": {
        "id": "kI-mWyE1vzQx"
      },
      "outputs": [],
      "source": [
        "# Your code here..."
      ]
    }
  ]
}