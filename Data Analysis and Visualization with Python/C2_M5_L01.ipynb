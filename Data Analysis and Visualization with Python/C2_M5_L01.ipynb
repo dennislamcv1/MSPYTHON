{
 "cells": [
  {
   "cell_type": "markdown",
   "id": "1e967ab7",
   "metadata": {
    "deletable": false,
    "editable": false,
    "nbgrader": {
     "cell_type": "markdown",
     "checksum": "460f765f1f2d5678abedc11b4d9ac553",
     "grade": false,
     "grade_id": "cell-1573458c30a33ac1",
     "locked": true,
     "schema_version": 3,
     "solution": false,
     "task": false
    }
   },
   "source": [
    "## Objective\n",
    "In this lab, you will learn how to use Scikit-Learn to build and evaluate a basic linear regression model for predicting house prices. You will go through the steps of loading and exploring a dataset, preprocessing the data, building a model, and evaluating its performance.\n",
    "## Scenario\n",
    "Welcome to your new role as a data analyst intern at a real estate firm! Your manager has tasked you with developing a simple machine learning model to predict house prices based on historical data. This model will help the firm estimate the value of new properties quickly and efficiently.\n",
    "## Materials Provided\n",
    "- A dataset (`house_prices.csv`) preloaded into a pandas DataFrame named `df`.\n",
    "- Python environment with Scikit-Learn, pandas, and other essential libraries pre-installed.\n",
    "\n",
    "## High-Level Tasks\n",
    "1. **Load and Explore the Data**\n",
    "2. **Data Preprocessing**\n",
    "3. **Build and Train a Linear Regression Model**\n",
    "4. **Make Predictions and Evaluate the Model**\n",
    "5. **Bonus Challenge (Optional)**"
   ]
  },
  {
   "cell_type": "markdown",
   "id": "fd07971b",
   "metadata": {
    "deletable": false,
    "editable": false,
    "nbgrader": {
     "cell_type": "markdown",
     "checksum": "555dc53a80b5eb5010b1c5623f7f9555",
     "grade": false,
     "grade_id": "cell-c565f61efeedb256",
     "locked": true,
     "schema_version": 3,
     "solution": false,
     "task": false
    }
   },
   "source": [
    "## Lab Instructions\n",
    "### 1. Load and Explore the Data\n",
    "#### Step 1.1: Import the required Python library and load dataset."
   ]
  },
  {
   "cell_type": "code",
   "execution_count": 1,
   "id": "09d5c2aa",
   "metadata": {},
   "outputs": [],
   "source": [
    "import pandas as pd\n",
    "df = pd.read_csv(\"house_prices.csv\")"
   ]
  },
  {
   "cell_type": "markdown",
   "id": "2234fcd0",
   "metadata": {
    "deletable": false,
    "editable": false,
    "nbgrader": {
     "cell_type": "markdown",
     "checksum": "a5bdd2557489ca0cb28e9bdd634164e3",
     "grade": false,
     "grade_id": "cell-c4a267ce4deb8dac",
     "locked": true,
     "schema_version": 3,
     "solution": false,
     "task": false
    }
   },
   "source": [
    "#### Step 1.2: Display the First 5 Rows\n",
    "Use the provided code cell to display the first 5 rows of the dataset."
   ]
  },
  {
   "cell_type": "code",
   "execution_count": 2,
   "id": "b00bfc1a",
   "metadata": {},
   "outputs": [
    {
     "data": {
      "text/html": [
       "<div>\n",
       "<style scoped>\n",
       "    .dataframe tbody tr th:only-of-type {\n",
       "        vertical-align: middle;\n",
       "    }\n",
       "\n",
       "    .dataframe tbody tr th {\n",
       "        vertical-align: top;\n",
       "    }\n",
       "\n",
       "    .dataframe thead th {\n",
       "        text-align: right;\n",
       "    }\n",
       "</style>\n",
       "<table border=\"1\" class=\"dataframe\">\n",
       "  <thead>\n",
       "    <tr style=\"text-align: right;\">\n",
       "      <th></th>\n",
       "      <th>price</th>\n",
       "      <th>bedrooms</th>\n",
       "      <th>bathrooms</th>\n",
       "      <th>sqft_living</th>\n",
       "      <th>sqft_lot</th>\n",
       "      <th>floors</th>\n",
       "      <th>waterfront</th>\n",
       "      <th>view</th>\n",
       "      <th>condition</th>\n",
       "      <th>sqft_above</th>\n",
       "      <th>sqft_basement</th>\n",
       "      <th>yr_built</th>\n",
       "      <th>yr_renovated</th>\n",
       "    </tr>\n",
       "  </thead>\n",
       "  <tbody>\n",
       "    <tr>\n",
       "      <th>0</th>\n",
       "      <td>376000.0</td>\n",
       "      <td>3.0</td>\n",
       "      <td>2.00</td>\n",
       "      <td>1340</td>\n",
       "      <td>1384</td>\n",
       "      <td>3.0</td>\n",
       "      <td>0</td>\n",
       "      <td>0</td>\n",
       "      <td>NaN</td>\n",
       "      <td>1340</td>\n",
       "      <td>0</td>\n",
       "      <td>2008</td>\n",
       "      <td>0</td>\n",
       "    </tr>\n",
       "    <tr>\n",
       "      <th>1</th>\n",
       "      <td>800000.0</td>\n",
       "      <td>4.0</td>\n",
       "      <td>3.25</td>\n",
       "      <td>3540</td>\n",
       "      <td>159430</td>\n",
       "      <td>2.0</td>\n",
       "      <td>0</td>\n",
       "      <td>0</td>\n",
       "      <td>NaN</td>\n",
       "      <td>3540</td>\n",
       "      <td>0</td>\n",
       "      <td>2007</td>\n",
       "      <td>0</td>\n",
       "    </tr>\n",
       "    <tr>\n",
       "      <th>2</th>\n",
       "      <td>2238888.0</td>\n",
       "      <td>5.0</td>\n",
       "      <td>6.50</td>\n",
       "      <td>7270</td>\n",
       "      <td>130017</td>\n",
       "      <td>2.0</td>\n",
       "      <td>0</td>\n",
       "      <td>0</td>\n",
       "      <td>NaN</td>\n",
       "      <td>6420</td>\n",
       "      <td>850</td>\n",
       "      <td>2010</td>\n",
       "      <td>0</td>\n",
       "    </tr>\n",
       "    <tr>\n",
       "      <th>3</th>\n",
       "      <td>324000.0</td>\n",
       "      <td>3.0</td>\n",
       "      <td>2.25</td>\n",
       "      <td>998</td>\n",
       "      <td>904</td>\n",
       "      <td>2.0</td>\n",
       "      <td>0</td>\n",
       "      <td>0</td>\n",
       "      <td>NaN</td>\n",
       "      <td>798</td>\n",
       "      <td>200</td>\n",
       "      <td>2007</td>\n",
       "      <td>0</td>\n",
       "    </tr>\n",
       "    <tr>\n",
       "      <th>4</th>\n",
       "      <td>549900.0</td>\n",
       "      <td>5.0</td>\n",
       "      <td>2.75</td>\n",
       "      <td>3060</td>\n",
       "      <td>7015</td>\n",
       "      <td>1.0</td>\n",
       "      <td>0</td>\n",
       "      <td>0</td>\n",
       "      <td>5.0</td>\n",
       "      <td>1600</td>\n",
       "      <td>1460</td>\n",
       "      <td>1979</td>\n",
       "      <td>0</td>\n",
       "    </tr>\n",
       "  </tbody>\n",
       "</table>\n",
       "</div>"
      ],
      "text/plain": [
       "       price  bedrooms  bathrooms  sqft_living  sqft_lot  floors  waterfront  \\\n",
       "0   376000.0       3.0       2.00         1340      1384     3.0           0   \n",
       "1   800000.0       4.0       3.25         3540    159430     2.0           0   \n",
       "2  2238888.0       5.0       6.50         7270    130017     2.0           0   \n",
       "3   324000.0       3.0       2.25          998       904     2.0           0   \n",
       "4   549900.0       5.0       2.75         3060      7015     1.0           0   \n",
       "\n",
       "   view  condition  sqft_above  sqft_basement  yr_built  yr_renovated  \n",
       "0     0        NaN        1340              0      2008             0  \n",
       "1     0        NaN        3540              0      2007             0  \n",
       "2     0        NaN        6420            850      2010             0  \n",
       "3     0        NaN         798            200      2007             0  \n",
       "4     0        5.0        1600           1460      1979             0  "
      ]
     },
     "execution_count": 2,
     "metadata": {},
     "output_type": "execute_result"
    }
   ],
   "source": [
    "# Display the first 5 rows of the dataframe\n",
    "df.head()"
   ]
  },
  {
   "cell_type": "markdown",
   "id": "d9b7620f",
   "metadata": {
    "deletable": false,
    "editable": false,
    "nbgrader": {
     "cell_type": "markdown",
     "checksum": "d8ef119a037651d97eb963769265fbd7",
     "grade": false,
     "grade_id": "cell-6ddf06c5f9d7cc7f",
     "locked": true,
     "schema_version": 3,
     "solution": false,
     "task": false
    }
   },
   "source": [
    "#### Step 1.3: Examine Column Names and Data Types\n",
    "Inspect the column names and data types using `df.info()`."
   ]
  },
  {
   "cell_type": "code",
   "execution_count": 3,
   "id": "a114a1be",
   "metadata": {},
   "outputs": [
    {
     "name": "stdout",
     "output_type": "stream",
     "text": [
      "<class 'pandas.core.frame.DataFrame'>\n",
      "RangeIndex: 4140 entries, 0 to 4139\n",
      "Data columns (total 13 columns):\n",
      " #   Column         Non-Null Count  Dtype  \n",
      "---  ------         --------------  -----  \n",
      " 0   price          4140 non-null   float64\n",
      " 1   bedrooms       4140 non-null   float64\n",
      " 2   bathrooms      4140 non-null   float64\n",
      " 3   sqft_living    4140 non-null   int64  \n",
      " 4   sqft_lot       4140 non-null   int64  \n",
      " 5   floors         4140 non-null   float64\n",
      " 6   waterfront     4140 non-null   int64  \n",
      " 7   view           4140 non-null   int64  \n",
      " 8   condition      3595 non-null   float64\n",
      " 9   sqft_above     4140 non-null   int64  \n",
      " 10  sqft_basement  4140 non-null   int64  \n",
      " 11  yr_built       4140 non-null   int64  \n",
      " 12  yr_renovated   4140 non-null   int64  \n",
      "dtypes: float64(5), int64(8)\n",
      "memory usage: 420.6 KB\n"
     ]
    }
   ],
   "source": [
    "# Display column names and data types\n",
    "df.info()"
   ]
  },
  {
   "cell_type": "markdown",
   "id": "31d7bcb0",
   "metadata": {
    "deletable": false,
    "editable": false,
    "nbgrader": {
     "cell_type": "markdown",
     "checksum": "108af717c24470a23981c304365554db",
     "grade": false,
     "grade_id": "cell-a0b991e5a3c95b8d",
     "locked": true,
     "schema_version": 3,
     "solution": false,
     "task": false
    }
   },
   "source": [
    "#### Step 1.4: Get Summary Statistics\n",
    "Get summary statistics of numerical columns using `df.describe()` and `df.dtypes`."
   ]
  },
  {
   "cell_type": "code",
   "execution_count": 4,
   "id": "c4a2fa93",
   "metadata": {},
   "outputs": [
    {
     "data": {
      "text/plain": [
       "price            float64\n",
       "bedrooms         float64\n",
       "bathrooms        float64\n",
       "sqft_living        int64\n",
       "sqft_lot           int64\n",
       "floors           float64\n",
       "waterfront         int64\n",
       "view               int64\n",
       "condition        float64\n",
       "sqft_above         int64\n",
       "sqft_basement      int64\n",
       "yr_built           int64\n",
       "yr_renovated       int64\n",
       "dtype: object"
      ]
     },
     "execution_count": 4,
     "metadata": {},
     "output_type": "execute_result"
    }
   ],
   "source": [
    "# Summary statistics of numerical columns\n",
    "df.describe()\n",
    "\n",
    "# Observe data types of df\n",
    "df.dtypes"
   ]
  },
  {
   "cell_type": "markdown",
   "id": "68d8523c",
   "metadata": {},
   "source": [
    "### 2. Data Preprocessing\n",
    "#### Step 2.1: Handle Missing Values\n",
    "Identify and handle any missing values. You could choose to drop rows with missing values or fill them with appropriate statistics (mean, median, etc.). For this activity, fill the missing values with the median to retain as much data as possible without introducing bias.\n"
   ]
  },
  {
   "cell_type": "code",
   "execution_count": 5,
   "id": "5410af0d",
   "metadata": {},
   "outputs": [
    {
     "data": {
      "text/plain": [
       "price              0\n",
       "bedrooms           0\n",
       "bathrooms          0\n",
       "sqft_living        0\n",
       "sqft_lot           0\n",
       "floors             0\n",
       "waterfront         0\n",
       "view               0\n",
       "condition        545\n",
       "sqft_above         0\n",
       "sqft_basement      0\n",
       "yr_built           0\n",
       "yr_renovated       0\n",
       "dtype: int64"
      ]
     },
     "execution_count": 5,
     "metadata": {},
     "output_type": "execute_result"
    }
   ],
   "source": [
    "#Show where and how many missing values are in data set\n",
    "df.isnull().sum()"
   ]
  },
  {
   "cell_type": "code",
   "execution_count": 6,
   "id": "22b1c920",
   "metadata": {},
   "outputs": [
    {
     "data": {
      "text/html": [
       "<div>\n",
       "<style scoped>\n",
       "    .dataframe tbody tr th:only-of-type {\n",
       "        vertical-align: middle;\n",
       "    }\n",
       "\n",
       "    .dataframe tbody tr th {\n",
       "        vertical-align: top;\n",
       "    }\n",
       "\n",
       "    .dataframe thead th {\n",
       "        text-align: right;\n",
       "    }\n",
       "</style>\n",
       "<table border=\"1\" class=\"dataframe\">\n",
       "  <thead>\n",
       "    <tr style=\"text-align: right;\">\n",
       "      <th></th>\n",
       "      <th>price</th>\n",
       "      <th>bedrooms</th>\n",
       "      <th>bathrooms</th>\n",
       "      <th>sqft_living</th>\n",
       "      <th>sqft_lot</th>\n",
       "      <th>floors</th>\n",
       "      <th>waterfront</th>\n",
       "      <th>view</th>\n",
       "      <th>condition</th>\n",
       "      <th>sqft_above</th>\n",
       "      <th>sqft_basement</th>\n",
       "      <th>yr_built</th>\n",
       "      <th>yr_renovated</th>\n",
       "    </tr>\n",
       "  </thead>\n",
       "  <tbody>\n",
       "    <tr>\n",
       "      <th>0</th>\n",
       "      <td>376000.0</td>\n",
       "      <td>3.0</td>\n",
       "      <td>2.00</td>\n",
       "      <td>1340</td>\n",
       "      <td>1384</td>\n",
       "      <td>3.0</td>\n",
       "      <td>0</td>\n",
       "      <td>0</td>\n",
       "      <td>3.0</td>\n",
       "      <td>1340</td>\n",
       "      <td>0</td>\n",
       "      <td>2008</td>\n",
       "      <td>0</td>\n",
       "    </tr>\n",
       "    <tr>\n",
       "      <th>1</th>\n",
       "      <td>800000.0</td>\n",
       "      <td>4.0</td>\n",
       "      <td>3.25</td>\n",
       "      <td>3540</td>\n",
       "      <td>159430</td>\n",
       "      <td>2.0</td>\n",
       "      <td>0</td>\n",
       "      <td>0</td>\n",
       "      <td>3.0</td>\n",
       "      <td>3540</td>\n",
       "      <td>0</td>\n",
       "      <td>2007</td>\n",
       "      <td>0</td>\n",
       "    </tr>\n",
       "    <tr>\n",
       "      <th>2</th>\n",
       "      <td>2238888.0</td>\n",
       "      <td>5.0</td>\n",
       "      <td>6.50</td>\n",
       "      <td>7270</td>\n",
       "      <td>130017</td>\n",
       "      <td>2.0</td>\n",
       "      <td>0</td>\n",
       "      <td>0</td>\n",
       "      <td>3.0</td>\n",
       "      <td>6420</td>\n",
       "      <td>850</td>\n",
       "      <td>2010</td>\n",
       "      <td>0</td>\n",
       "    </tr>\n",
       "    <tr>\n",
       "      <th>3</th>\n",
       "      <td>324000.0</td>\n",
       "      <td>3.0</td>\n",
       "      <td>2.25</td>\n",
       "      <td>998</td>\n",
       "      <td>904</td>\n",
       "      <td>2.0</td>\n",
       "      <td>0</td>\n",
       "      <td>0</td>\n",
       "      <td>3.0</td>\n",
       "      <td>798</td>\n",
       "      <td>200</td>\n",
       "      <td>2007</td>\n",
       "      <td>0</td>\n",
       "    </tr>\n",
       "    <tr>\n",
       "      <th>4</th>\n",
       "      <td>549900.0</td>\n",
       "      <td>5.0</td>\n",
       "      <td>2.75</td>\n",
       "      <td>3060</td>\n",
       "      <td>7015</td>\n",
       "      <td>1.0</td>\n",
       "      <td>0</td>\n",
       "      <td>0</td>\n",
       "      <td>5.0</td>\n",
       "      <td>1600</td>\n",
       "      <td>1460</td>\n",
       "      <td>1979</td>\n",
       "      <td>0</td>\n",
       "    </tr>\n",
       "  </tbody>\n",
       "</table>\n",
       "</div>"
      ],
      "text/plain": [
       "       price  bedrooms  bathrooms  sqft_living  sqft_lot  floors  waterfront  \\\n",
       "0   376000.0       3.0       2.00         1340      1384     3.0           0   \n",
       "1   800000.0       4.0       3.25         3540    159430     2.0           0   \n",
       "2  2238888.0       5.0       6.50         7270    130017     2.0           0   \n",
       "3   324000.0       3.0       2.25          998       904     2.0           0   \n",
       "4   549900.0       5.0       2.75         3060      7015     1.0           0   \n",
       "\n",
       "   view  condition  sqft_above  sqft_basement  yr_built  yr_renovated  \n",
       "0     0        3.0        1340              0      2008             0  \n",
       "1     0        3.0        3540              0      2007             0  \n",
       "2     0        3.0        6420            850      2010             0  \n",
       "3     0        3.0         798            200      2007             0  \n",
       "4     0        5.0        1600           1460      1979             0  "
      ]
     },
     "execution_count": 6,
     "metadata": {},
     "output_type": "execute_result"
    }
   ],
   "source": [
    "# Fill missing values in “condition” with median\n",
    "# Fill missing values in 'condition' with the median value\n",
    "df['condition'] = df['condition'].fillna(df['condition'].median())\n",
    "\n",
    "\n",
    "# Show dataframe with filled values in “condition”\n",
    "df.head()"
   ]
  },
  {
   "cell_type": "markdown",
   "id": "a06bfad1",
   "metadata": {
    "deletable": false,
    "editable": false,
    "nbgrader": {
     "cell_type": "markdown",
     "checksum": "f4d44907a40f6214acb43677f9f797d1",
     "grade": false,
     "grade_id": "cell-569510edec5cd681",
     "locked": true,
     "schema_version": 3,
     "solution": false,
     "task": false
    }
   },
   "source": [
    "#### Step 2.2: Select Relevant Features\n",
    "Select the features (e.g., `'sqft_living'`, `'bedrooms'`, `'bathrooms'`,`’condition’`,`’floors’`) and the target variable (`'price'`)."
   ]
  },
  {
   "cell_type": "code",
   "execution_count": 7,
   "id": "d3db4d80",
   "metadata": {},
   "outputs": [],
   "source": [
    "# Select relevant features and target variable\n",
    "# Define the features (independent variables)\n",
    "features = ['sqft_living', 'bedrooms', 'bathrooms', 'condition', 'floors']\n",
    "\n",
    "# Select the target variable (dependent variable)\n",
    "target = 'price'"
   ]
  },
  {
   "cell_type": "markdown",
   "id": "3b9fa25a",
   "metadata": {
    "deletable": false,
    "editable": false,
    "nbgrader": {
     "cell_type": "markdown",
     "checksum": "28ab6d5e2e9979c1897103942e12ab89",
     "grade": false,
     "grade_id": "cell-65084e6968ef868d",
     "locked": true,
     "schema_version": 3,
     "solution": false,
     "task": false
    }
   },
   "source": [
    "#### Step 2.3: Encode Categorical Feature\n",
    "Encode the categorical feature `'condition'` using one-hot encoding."
   ]
  },
  {
   "cell_type": "code",
   "execution_count": 8,
   "id": "f87d92db",
   "metadata": {},
   "outputs": [],
   "source": [
    "# One-hot encoding for 'condition' feature\n",
    "# Perform one-hot encoding on 'condition'\n",
    "df_encoded = pd.get_dummies(df, columns=['condition'], prefix='condition', drop_first=True)\n",
    "\n",
    "# Show dataframe with one-hot encoding\n",
    "# Define the original feature list before encoding\n",
    "original_features = ['sqft_living', 'bedrooms', 'bathrooms', 'condition', 'floors']\n",
    "\n",
    "# Remove 'condition' from the feature list since it has been encoded\n",
    "original_features.remove('condition')\n",
    "\n",
    "# Get the new one-hot encoded column names\n",
    "encoded_condition_columns = [col for col in df_encoded.columns if 'condition_' in col]\n",
    "\n",
    "# Create the updated feature list\n",
    "features = original_features + encoded_condition_columns"
   ]
  },
  {
   "cell_type": "code",
   "execution_count": 9,
   "id": "5734f4e9",
   "metadata": {},
   "outputs": [
    {
     "data": {
      "text/plain": [
       "['sqft_living',\n",
       " 'bedrooms',\n",
       " 'bathrooms',\n",
       " 'floors',\n",
       " 'condition_2.0',\n",
       " 'condition_3.0',\n",
       " 'condition_4.0',\n",
       " 'condition_5.0']"
      ]
     },
     "execution_count": 9,
     "metadata": {},
     "output_type": "execute_result"
    }
   ],
   "source": [
    "features"
   ]
  },
  {
   "cell_type": "code",
   "execution_count": 10,
   "id": "54d3fb65",
   "metadata": {},
   "outputs": [],
   "source": [
    "# Select the updated feature matrix X and target variable y\n",
    "X = df_encoded[features]  # Features\n",
    "y = df_encoded['price']   # Target variable"
   ]
  },
  {
   "cell_type": "code",
   "execution_count": 11,
   "id": "1066aff0",
   "metadata": {},
   "outputs": [
    {
     "data": {
      "text/html": [
       "<div>\n",
       "<style scoped>\n",
       "    .dataframe tbody tr th:only-of-type {\n",
       "        vertical-align: middle;\n",
       "    }\n",
       "\n",
       "    .dataframe tbody tr th {\n",
       "        vertical-align: top;\n",
       "    }\n",
       "\n",
       "    .dataframe thead th {\n",
       "        text-align: right;\n",
       "    }\n",
       "</style>\n",
       "<table border=\"1\" class=\"dataframe\">\n",
       "  <thead>\n",
       "    <tr style=\"text-align: right;\">\n",
       "      <th></th>\n",
       "      <th>sqft_living</th>\n",
       "      <th>bedrooms</th>\n",
       "      <th>bathrooms</th>\n",
       "      <th>floors</th>\n",
       "      <th>condition_2.0</th>\n",
       "      <th>condition_3.0</th>\n",
       "      <th>condition_4.0</th>\n",
       "      <th>condition_5.0</th>\n",
       "    </tr>\n",
       "  </thead>\n",
       "  <tbody>\n",
       "    <tr>\n",
       "      <th>0</th>\n",
       "      <td>1340</td>\n",
       "      <td>3.0</td>\n",
       "      <td>2.00</td>\n",
       "      <td>3.0</td>\n",
       "      <td>0</td>\n",
       "      <td>1</td>\n",
       "      <td>0</td>\n",
       "      <td>0</td>\n",
       "    </tr>\n",
       "    <tr>\n",
       "      <th>1</th>\n",
       "      <td>3540</td>\n",
       "      <td>4.0</td>\n",
       "      <td>3.25</td>\n",
       "      <td>2.0</td>\n",
       "      <td>0</td>\n",
       "      <td>1</td>\n",
       "      <td>0</td>\n",
       "      <td>0</td>\n",
       "    </tr>\n",
       "    <tr>\n",
       "      <th>2</th>\n",
       "      <td>7270</td>\n",
       "      <td>5.0</td>\n",
       "      <td>6.50</td>\n",
       "      <td>2.0</td>\n",
       "      <td>0</td>\n",
       "      <td>1</td>\n",
       "      <td>0</td>\n",
       "      <td>0</td>\n",
       "    </tr>\n",
       "    <tr>\n",
       "      <th>3</th>\n",
       "      <td>998</td>\n",
       "      <td>3.0</td>\n",
       "      <td>2.25</td>\n",
       "      <td>2.0</td>\n",
       "      <td>0</td>\n",
       "      <td>1</td>\n",
       "      <td>0</td>\n",
       "      <td>0</td>\n",
       "    </tr>\n",
       "    <tr>\n",
       "      <th>4</th>\n",
       "      <td>3060</td>\n",
       "      <td>5.0</td>\n",
       "      <td>2.75</td>\n",
       "      <td>1.0</td>\n",
       "      <td>0</td>\n",
       "      <td>0</td>\n",
       "      <td>0</td>\n",
       "      <td>1</td>\n",
       "    </tr>\n",
       "  </tbody>\n",
       "</table>\n",
       "</div>"
      ],
      "text/plain": [
       "   sqft_living  bedrooms  bathrooms  floors  condition_2.0  condition_3.0  \\\n",
       "0         1340       3.0       2.00     3.0              0              1   \n",
       "1         3540       4.0       3.25     2.0              0              1   \n",
       "2         7270       5.0       6.50     2.0              0              1   \n",
       "3          998       3.0       2.25     2.0              0              1   \n",
       "4         3060       5.0       2.75     1.0              0              0   \n",
       "\n",
       "   condition_4.0  condition_5.0  \n",
       "0              0              0  \n",
       "1              0              0  \n",
       "2              0              0  \n",
       "3              0              0  \n",
       "4              0              1  "
      ]
     },
     "execution_count": 11,
     "metadata": {},
     "output_type": "execute_result"
    }
   ],
   "source": [
    "X.head()"
   ]
  },
  {
   "cell_type": "markdown",
   "id": "f54b402f",
   "metadata": {
    "deletable": false,
    "editable": false,
    "nbgrader": {
     "cell_type": "markdown",
     "checksum": "61f1313e94d931758d54e2022936b147",
     "grade": false,
     "grade_id": "cell-7e261618e6dcb311",
     "locked": true,
     "schema_version": 3,
     "solution": false,
     "task": false
    }
   },
   "source": [
    "#### Step 2.4: Split the Data\n",
    "Split the data into training and testing sets (80% train, 20% test) using `train_test_split` from Scikit-Learn.\n",
    "\n",
    "Make sure to set the `random_state` parameter to 42 to ensure reproducibility and obtain the same results as the expected solution."
   ]
  },
  {
   "cell_type": "code",
   "execution_count": 12,
   "id": "06079d7b",
   "metadata": {},
   "outputs": [
    {
     "name": "stdout",
     "output_type": "stream",
     "text": [
      "Training set: X_train shape = (3312, 8), y_train shape = (3312,)\n",
      "Testing set: X_test shape = (828, 8), y_test shape = (828,)\n"
     ]
    }
   ],
   "source": [
    "from sklearn.model_selection import train_test_split\n",
    "\n",
    "# Splitting the data\n",
    "# Split the data into training (80%) and testing (20%) sets\n",
    "X_train, X_test, y_train, y_test = train_test_split(X, y, test_size=0.2, random_state=42)\n",
    "\n",
    "# Display the shapes of the resulting datasets\n",
    "print(f\"Training set: X_train shape = {X_train.shape}, y_train shape = {y_train.shape}\")\n",
    "print(f\"Testing set: X_test shape = {X_test.shape}, y_test shape = {y_test.shape}\")"
   ]
  },
  {
   "cell_type": "markdown",
   "id": "0cd3baec",
   "metadata": {
    "deletable": false,
    "editable": false,
    "nbgrader": {
     "cell_type": "markdown",
     "checksum": "ee5f63eca4a3c4d1620f2655914def58",
     "grade": false,
     "grade_id": "cell-7b7af28212cf4e6e",
     "locked": true,
     "schema_version": 3,
     "solution": false,
     "task": false
    }
   },
   "source": [
    "### 3. Build and Train a Linear Regression Model\n",
    "#### Step 3.1: Import LinearRegression\n",
    "Import `LinearRegression` from `sklearn.linear_model`."
   ]
  },
  {
   "cell_type": "code",
   "execution_count": 13,
   "id": "47a01a33",
   "metadata": {},
   "outputs": [],
   "source": [
    "from sklearn.linear_model import LinearRegression"
   ]
  },
  {
   "cell_type": "markdown",
   "id": "163fb741",
   "metadata": {
    "deletable": false,
    "editable": false,
    "nbgrader": {
     "cell_type": "markdown",
     "checksum": "dcb7684ff288067122bf60de3fb132b1",
     "grade": false,
     "grade_id": "cell-479774e1ce759395",
     "locked": true,
     "schema_version": 3,
     "solution": false,
     "task": false
    }
   },
   "source": [
    "#### Step 3.2: Create an Instance of the Model\n",
    "Create an instance of the `LinearRegression` model."
   ]
  },
  {
   "cell_type": "code",
   "execution_count": 14,
   "id": "0dd018fe",
   "metadata": {},
   "outputs": [],
   "source": [
    "# Create an instance of the LinearRegression model\n",
    "model = LinearRegression()"
   ]
  },
  {
   "cell_type": "markdown",
   "id": "44108649",
   "metadata": {
    "deletable": false,
    "editable": false,
    "nbgrader": {
     "cell_type": "markdown",
     "checksum": "df3d77ae657a04c4fec71e222a2a9c71",
     "grade": false,
     "grade_id": "cell-7be68be380acc66f",
     "locked": true,
     "schema_version": 3,
     "solution": false,
     "task": false
    }
   },
   "source": [
    "#### Step 3.3: Fit the Model\n",
    "Fit the model to the training data."
   ]
  },
  {
   "cell_type": "code",
   "execution_count": 15,
   "id": "957aacf7",
   "metadata": {},
   "outputs": [
    {
     "data": {
      "text/html": [
       "<style>#sk-container-id-1 {color: black;background-color: white;}#sk-container-id-1 pre{padding: 0;}#sk-container-id-1 div.sk-toggleable {background-color: white;}#sk-container-id-1 label.sk-toggleable__label {cursor: pointer;display: block;width: 100%;margin-bottom: 0;padding: 0.3em;box-sizing: border-box;text-align: center;}#sk-container-id-1 label.sk-toggleable__label-arrow:before {content: \"▸\";float: left;margin-right: 0.25em;color: #696969;}#sk-container-id-1 label.sk-toggleable__label-arrow:hover:before {color: black;}#sk-container-id-1 div.sk-estimator:hover label.sk-toggleable__label-arrow:before {color: black;}#sk-container-id-1 div.sk-toggleable__content {max-height: 0;max-width: 0;overflow: hidden;text-align: left;background-color: #f0f8ff;}#sk-container-id-1 div.sk-toggleable__content pre {margin: 0.2em;color: black;border-radius: 0.25em;background-color: #f0f8ff;}#sk-container-id-1 input.sk-toggleable__control:checked~div.sk-toggleable__content {max-height: 200px;max-width: 100%;overflow: auto;}#sk-container-id-1 input.sk-toggleable__control:checked~label.sk-toggleable__label-arrow:before {content: \"▾\";}#sk-container-id-1 div.sk-estimator input.sk-toggleable__control:checked~label.sk-toggleable__label {background-color: #d4ebff;}#sk-container-id-1 div.sk-label input.sk-toggleable__control:checked~label.sk-toggleable__label {background-color: #d4ebff;}#sk-container-id-1 input.sk-hidden--visually {border: 0;clip: rect(1px 1px 1px 1px);clip: rect(1px, 1px, 1px, 1px);height: 1px;margin: -1px;overflow: hidden;padding: 0;position: absolute;width: 1px;}#sk-container-id-1 div.sk-estimator {font-family: monospace;background-color: #f0f8ff;border: 1px dotted black;border-radius: 0.25em;box-sizing: border-box;margin-bottom: 0.5em;}#sk-container-id-1 div.sk-estimator:hover {background-color: #d4ebff;}#sk-container-id-1 div.sk-parallel-item::after {content: \"\";width: 100%;border-bottom: 1px solid gray;flex-grow: 1;}#sk-container-id-1 div.sk-label:hover label.sk-toggleable__label {background-color: #d4ebff;}#sk-container-id-1 div.sk-serial::before {content: \"\";position: absolute;border-left: 1px solid gray;box-sizing: border-box;top: 0;bottom: 0;left: 50%;z-index: 0;}#sk-container-id-1 div.sk-serial {display: flex;flex-direction: column;align-items: center;background-color: white;padding-right: 0.2em;padding-left: 0.2em;position: relative;}#sk-container-id-1 div.sk-item {position: relative;z-index: 1;}#sk-container-id-1 div.sk-parallel {display: flex;align-items: stretch;justify-content: center;background-color: white;position: relative;}#sk-container-id-1 div.sk-item::before, #sk-container-id-1 div.sk-parallel-item::before {content: \"\";position: absolute;border-left: 1px solid gray;box-sizing: border-box;top: 0;bottom: 0;left: 50%;z-index: -1;}#sk-container-id-1 div.sk-parallel-item {display: flex;flex-direction: column;z-index: 1;position: relative;background-color: white;}#sk-container-id-1 div.sk-parallel-item:first-child::after {align-self: flex-end;width: 50%;}#sk-container-id-1 div.sk-parallel-item:last-child::after {align-self: flex-start;width: 50%;}#sk-container-id-1 div.sk-parallel-item:only-child::after {width: 0;}#sk-container-id-1 div.sk-dashed-wrapped {border: 1px dashed gray;margin: 0 0.4em 0.5em 0.4em;box-sizing: border-box;padding-bottom: 0.4em;background-color: white;}#sk-container-id-1 div.sk-label label {font-family: monospace;font-weight: bold;display: inline-block;line-height: 1.2em;}#sk-container-id-1 div.sk-label-container {text-align: center;}#sk-container-id-1 div.sk-container {/* jupyter's `normalize.less` sets `[hidden] { display: none; }` but bootstrap.min.css set `[hidden] { display: none !important; }` so we also need the `!important` here to be able to override the default hidden behavior on the sphinx rendered scikit-learn.org. See: https://github.com/scikit-learn/scikit-learn/issues/21755 */display: inline-block !important;position: relative;}#sk-container-id-1 div.sk-text-repr-fallback {display: none;}</style><div id=\"sk-container-id-1\" class=\"sk-top-container\"><div class=\"sk-text-repr-fallback\"><pre>LinearRegression()</pre><b>In a Jupyter environment, please rerun this cell to show the HTML representation or trust the notebook. <br />On GitHub, the HTML representation is unable to render, please try loading this page with nbviewer.org.</b></div><div class=\"sk-container\" hidden><div class=\"sk-item\"><div class=\"sk-estimator sk-toggleable\"><input class=\"sk-toggleable__control sk-hidden--visually\" id=\"sk-estimator-id-1\" type=\"checkbox\" checked><label for=\"sk-estimator-id-1\" class=\"sk-toggleable__label sk-toggleable__label-arrow\">LinearRegression</label><div class=\"sk-toggleable__content\"><pre>LinearRegression()</pre></div></div></div></div></div>"
      ],
      "text/plain": [
       "LinearRegression()"
      ]
     },
     "execution_count": 15,
     "metadata": {},
     "output_type": "execute_result"
    }
   ],
   "source": [
    "# Fit the model\n",
    "model.fit(X_train,y_train)"
   ]
  },
  {
   "cell_type": "markdown",
   "id": "79d2fecc",
   "metadata": {
    "deletable": false,
    "editable": false,
    "nbgrader": {
     "cell_type": "markdown",
     "checksum": "cd3f05849a57fd675b3c752e318974e8",
     "grade": false,
     "grade_id": "cell-4e704e748cbe3119",
     "locked": true,
     "schema_version": 3,
     "solution": false,
     "task": false
    }
   },
   "source": [
    "### 4. Make Predictions and Evaluate the Model\n",
    "#### Step 4.1: Make Predictions\n",
    "Use the trained model to make predictions on the testing data.\n"
   ]
  },
  {
   "cell_type": "code",
   "execution_count": 16,
   "id": "c6dfe299",
   "metadata": {},
   "outputs": [],
   "source": [
    "# Make predictions on the test set\n",
    "y_pred = model.predict(X_test)"
   ]
  },
  {
   "cell_type": "markdown",
   "id": "a93894be",
   "metadata": {
    "deletable": false,
    "editable": false,
    "nbgrader": {
     "cell_type": "markdown",
     "checksum": "fde0bc83497c668012afa8ec8795cc4d",
     "grade": false,
     "grade_id": "cell-e5c63c94ec3df8ee",
     "locked": true,
     "schema_version": 3,
     "solution": false,
     "task": false
    }
   },
   "source": [
    "#### Step 4.2: Evaluate the Model\n",
    "Calculate the Mean Squared Error (MSE) as `mse` and R-squared value as `r_squared` to evaluate the model's performance, then check your results by printing them in the following cell. "
   ]
  },
  {
   "cell_type": "code",
   "execution_count": 17,
   "id": "1b02795d",
   "metadata": {},
   "outputs": [
    {
     "name": "stdout",
     "output_type": "stream",
     "text": [
      "Mean Squared Error (MSE): 71857868280.10321\n",
      "R-squared (R²) value: 0.31456514310691674\n"
     ]
    }
   ],
   "source": [
    "from sklearn.metrics import mean_squared_error, r2_score\n",
    "\n",
    "\n",
    "# Calculate Mean Squared Error (MSE)\n",
    "mse = mean_squared_error(y_test, y_pred)\n",
    "\n",
    "# Calculate R-squared (R²) value\n",
    "r_squared = r2_score(y_test, y_pred)\n",
    "\n",
    "# Print the results\n",
    "print(f\"Mean Squared Error (MSE): {mse}\")\n",
    "print(f\"R-squared (R²) value: {r_squared}\")"
   ]
  },
  {
   "cell_type": "markdown",
   "id": "db375bd7",
   "metadata": {
    "deletable": false,
    "editable": false,
    "nbgrader": {
     "cell_type": "markdown",
     "checksum": "89b1e86cf51ca9084b454e6bd2715f7e",
     "grade": false,
     "grade_id": "cell-15cd9398581749e5",
     "locked": true,
     "schema_version": 3,
     "solution": false,
     "task": false
    }
   },
   "source": [
    "#### Check Your Results: "
   ]
  },
  {
   "cell_type": "code",
   "execution_count": 18,
   "id": "89f2cd89",
   "metadata": {
    "deletable": false,
    "editable": false,
    "nbgrader": {
     "cell_type": "code",
     "checksum": "ea9243ffedfaa3c77444a486db5208b8",
     "grade": true,
     "grade_id": "cell-0d30204dcfba1c7a",
     "locked": true,
     "points": 10,
     "schema_version": 3,
     "solution": false,
     "task": false
    }
   },
   "outputs": [
    {
     "name": "stdout",
     "output_type": "stream",
     "text": [
      "Mean Squared Error (MSE): 71857868280.10321\n",
      "R-squared: 0.31456514310691674\n"
     ]
    }
   ],
   "source": [
    "# Print to check results\n",
    "print(f\"Mean Squared Error (MSE): {mse}\")\n",
    "print(f\"R-squared: {r_squared}\")\n"
   ]
  },
  {
   "cell_type": "markdown",
   "id": "5bc696c4",
   "metadata": {},
   "source": [
    "### 5. Bonus Challenge (Optional)\n",
    "#### Step 5.1: Experiment with a Different Regression Algorithm\n",
    "Experiment with a different regression algorithm (e.g., `DecisionTreeRegressor` or `RandomForestRegressor`) and compare its performance to the Linear Regression model using the same evaluation metrics."
   ]
  },
  {
   "cell_type": "code",
   "execution_count": 19,
   "id": "e514557a",
   "metadata": {},
   "outputs": [
    {
     "name": "stdout",
     "output_type": "stream",
     "text": [
      "DecisionTreeRegressor Mean Squared Error (MSE): 71857868280.10321\n",
      "DecisionTreeRegressor R-squared: 0.31456514310691674\n"
     ]
    }
   ],
   "source": [
    "from sklearn.tree import DecisionTreeRegressor\n",
    "\n",
    "# (Optional) Create and train a DecisionTreeRegressor\n",
    "tree = DecisionTreeRegressor()\n",
    "tree.fit(X_train,y_train)\n",
    "# Evaluate the DecisionTreeRegressor\n",
    "# Calculate Mean Squared Error (MSE)\n",
    "tree_mse = mean_squared_error(y_test, y_pred)\n",
    "\n",
    "# Calculate R-squared (R²) value\n",
    "tree_r2 = r2_score(y_test, y_pred)\n",
    "\n",
    "# Print to check results\n",
    "print(f\"DecisionTreeRegressor Mean Squared Error (MSE): {tree_mse}\")\n",
    "print(f\"DecisionTreeRegressor R-squared: {tree_r2}\")"
   ]
  },
  {
   "cell_type": "code",
   "execution_count": 20,
   "id": "11dbe494",
   "metadata": {},
   "outputs": [
    {
     "name": "stdout",
     "output_type": "stream",
     "text": [
      "RandomForestRegressor Mean Squared Error (MSE): 71857868280.10321\n",
      "RandomForestRegressor R-squared: 0.31456514310691674\n"
     ]
    }
   ],
   "source": [
    "from sklearn.ensemble import RandomForestRegressor\n",
    "\n",
    "# (Optional) Create and train a RandomForestRegressor and evaluate it\n",
    "forest = RandomForestRegressor()\n",
    "forest.fit(X_train,y_train)\n",
    "\n",
    "# Evaluate the RandomForestRegressor\n",
    "\n",
    "# Calculate Mean Squared Error (MSE)\n",
    "forest_mse = mean_squared_error(y_test, y_pred)\n",
    "\n",
    "# Calculate R-squared (R²) value\n",
    "forest_r2 = r2_score(y_test, y_pred)\n",
    "\n",
    "# Print to check results\n",
    "print(f\"RandomForestRegressor Mean Squared Error (MSE): {forest_mse}\")\n",
    "print(f\"RandomForestRegressor R-squared: {forest_r2}\")"
   ]
  },
  {
   "cell_type": "markdown",
   "id": "546e84b1",
   "metadata": {
    "deletable": false,
    "editable": false,
    "nbgrader": {
     "cell_type": "markdown",
     "checksum": "fd66416cab7787f1ddb485bd6d386146",
     "grade": false,
     "grade_id": "cell-82a69b7dedce1112",
     "locked": true,
     "schema_version": 3,
     "solution": false,
     "task": false
    }
   },
   "source": [
    "## Hints & Tips\n",
    "- Refer to the \"pandas Cheat Sheet\" for quick syntax reference on DataFrame operations.\n",
    "- Check the \"Scikit-Learn Documentation\" for examples and explanations of machine learning models.\n",
    "\n",
    "Good luck with your first machine learning model!"
   ]
  }
 ],
 "metadata": {
  "kernelspec": {
   "display_name": "Python 3 (ipykernel)",
   "language": "python",
   "name": "python3"
  },
  "language_info": {
   "codemirror_mode": {
    "name": "ipython",
    "version": 3
   },
   "file_extension": ".py",
   "mimetype": "text/x-python",
   "name": "python",
   "nbconvert_exporter": "python",
   "pygments_lexer": "ipython3",
   "version": "3.10.6"
  }
 },
 "nbformat": 4,
 "nbformat_minor": 5
}
