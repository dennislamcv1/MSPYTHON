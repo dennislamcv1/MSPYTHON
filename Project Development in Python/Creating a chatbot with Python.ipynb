{
 "cells": [
  {
   "cell_type": "markdown",
   "metadata": {
    "deletable": false,
    "editable": false,
    "nbgrader": {
     "cell_type": "markdown",
     "checksum": "a4b30440043f818c41d8f2273c7d3517",
     "grade": false,
     "grade_id": "cell-d60c238a32fcc94c",
     "locked": true,
     "schema_version": 3,
     "solution": false,
     "task": false
    }
   },
   "source": [
    "# Activity: Creating a chatbot with Python\n",
    "You are developing an AI-powered medical diagnosis assistant chatbot within a Jupyter Notebook environment. This chatbot will use spaCy to analyze user symptoms and provide preliminary diagnoses and recommendations, simulating a realistic medical interaction.\n",
    "\n",
    "In this exercise, you will create the chatbot logic, define a knowledge base, and ensure the chatbot can effectively extract symptoms and provide appropriate advice, all within a Jupyter Notebook for automated assessment.\n",
    "\n",
    "## Tips for completing this lab\n",
    "As you navigate this lab, keep the following tips in mind:\n",
    "- `### YOUR CODE HERE ###` indicates where you should write code. Be sure to replace this with your own code before running the code cell.\n",
    "- You can save your work manually by clicking File and then Save in the menu bar at the top of the notebook.\n",
    "- You can download your work locally by clicking File and then Download and then specifying your preferred file format in the menu bar at the top of the notebook."
   ]
  },
  {
   "cell_type": "markdown",
   "metadata": {
    "deletable": false,
    "editable": false,
    "nbgrader": {
     "cell_type": "markdown",
     "checksum": "e5f531f8d8a70d7cf8e565ba2754736b",
     "grade": false,
     "grade_id": "cell-e41b9fb87169d54f",
     "locked": true,
     "schema_version": 3,
     "solution": false,
     "task": false
    }
   },
   "source": [
    "## Step 1: Set up environment\n",
    "To start a chatbot, you will need to ensure spaCy is installed and install a language model (in this case, the core spaCy English language model). You have decided to set this up as a Jupyter Notebook for the moment. \n",
    "\n",
    "First, verify installation of spaCy by running the cell labeled **Step 1a**:"
   ]
  },
  {
   "cell_type": "markdown",
   "metadata": {
    "deletable": false,
    "editable": false,
    "nbgrader": {
     "cell_type": "markdown",
     "checksum": "483ff232ce371659c5e5ad9fc476091e",
     "grade": false,
     "grade_id": "cell-63122841b4c8aa9b",
     "locked": true,
     "schema_version": 3,
     "solution": false,
     "task": false
    }
   },
   "source": [
    "### Step 1a"
   ]
  },
  {
   "cell_type": "code",
   "execution_count": null,
   "metadata": {
    "deletable": false,
    "editable": false,
    "nbgrader": {
     "cell_type": "code",
     "checksum": "5e113676fffbb1c0677994426509ae28",
     "grade": false,
     "grade_id": "cell-2ba3afe0211510e6",
     "locked": true,
     "schema_version": 3,
     "solution": false,
     "task": false
    },
    "vscode": {
     "languageId": "shellscript"
    }
   },
   "outputs": [],
   "source": [
    "pip install spaCy"
   ]
  },
  {
   "cell_type": "markdown",
   "metadata": {
    "deletable": false,
    "editable": false,
    "nbgrader": {
     "cell_type": "markdown",
     "checksum": "fadd9b13cde6767fca575bf96a81c0a5",
     "grade": false,
     "grade_id": "cell-94cf41387c1da7ed",
     "locked": true,
     "schema_version": 3,
     "solution": false,
     "task": false
    }
   },
   "source": [
    "Once you run this cell, you may be prompted to reload the notebook. This will only need to be done one time on the machine."
   ]
  },
  {
   "cell_type": "markdown",
   "metadata": {
    "deletable": false,
    "editable": false,
    "nbgrader": {
     "cell_type": "markdown",
     "checksum": "1b7009eb09c8700df955636f432c0aee",
     "grade": false,
     "grade_id": "cell-151ccf8deab16a80",
     "locked": true,
     "schema_version": 3,
     "solution": false,
     "task": false
    }
   },
   "source": [
    "Once the installation is complete/verified, install the English language model. Inside of the notebook, the process to install spaCy's languages is different from doing it from the command line. \n",
    "\n",
    "Run the cell labeled **Step 1b**."
   ]
  },
  {
   "cell_type": "markdown",
   "metadata": {
    "deletable": false,
    "editable": false,
    "nbgrader": {
     "cell_type": "markdown",
     "checksum": "df611eb78e969904c14fd1f75265df93",
     "grade": false,
     "grade_id": "cell-d0e0ee23fbbf144a",
     "locked": true,
     "schema_version": 3,
     "solution": false,
     "task": false
    }
   },
   "source": [
    "### Step 1b: Install and load core English spaCy model"
   ]
  },
  {
   "cell_type": "code",
   "execution_count": null,
   "metadata": {
    "deletable": false,
    "editable": false,
    "nbgrader": {
     "cell_type": "code",
     "checksum": "befaaf8d577e0583b6f3a38f9415349b",
     "grade": false,
     "grade_id": "cell-207afedf49592b4a",
     "locked": true,
     "schema_version": 3,
     "solution": false,
     "task": false
    }
   },
   "outputs": [],
   "source": [
    "import spacy\n",
    "\n",
    "spacy.cli.download('en_core_web_sm')"
   ]
  },
  {
   "cell_type": "markdown",
   "metadata": {
    "deletable": false,
    "editable": false,
    "nbgrader": {
     "cell_type": "markdown",
     "checksum": "8e1acfb912243c4af45ebe93e67d95e8",
     "grade": false,
     "grade_id": "cell-f76b4da2bfb4e587",
     "locked": true,
     "schema_version": 3,
     "solution": false,
     "task": false
    }
   },
   "source": [
    "Once you run this cell, you may be prompted to reload the notebook. This will only need to be done one time on the machine."
   ]
  },
  {
   "cell_type": "markdown",
   "metadata": {
    "deletable": false,
    "editable": false,
    "nbgrader": {
     "cell_type": "markdown",
     "checksum": "856ca21f53c4146a226b27aabc457649",
     "grade": false,
     "grade_id": "cell-98f115a012e2f980",
     "locked": true,
     "schema_version": 3,
     "solution": false,
     "task": false
    }
   },
   "source": [
    "## Step 2: Load the medical knowledge base\n",
    "You'll be provided with a medical knowledge base in a JSON file named `medical_data.json`. This file contains information about various symptoms, potential medical conditions, and general recommendations. Your chatbot will use this knowledge base to understand user input and provide helpful responses.\n",
    "\n",
    "Instructions:\n",
    " - **Examine the structure:** Carefully review the structure of the medical_data.json file. Notice how the data is organized into dictionaries and lists. Pay attention to the keys and values used to represent symptoms, conditions, and recommendations. \n",
    " - **Understand the content:** Familiarize yourself with the symptoms, conditions, and recommendations included in the knowledge base. This will help you understand the scope of your chatbot's potential diagnoses and advice.\n",
    " - **Consider limitations:** Think about the limitations of this knowledge base. What types of medical conditions or scenarios might not be covered? How can your chatbot handle situations where the user's symptoms don't have a clear match in the data?\n",
    " \n",
    "Run the cell labeled **Step 2.1** to create the knowledge base."
   ]
  },
  {
   "cell_type": "markdown",
   "metadata": {
    "deletable": false,
    "editable": false,
    "nbgrader": {
     "cell_type": "markdown",
     "checksum": "ed142795fa5eafa0cbf8ea92e5c5094b",
     "grade": false,
     "grade_id": "cell-33621b88e2f1310f",
     "locked": true,
     "schema_version": 3,
     "solution": false,
     "task": false
    }
   },
   "source": [
    "### Step 2.1: Populate JSON knowledge base"
   ]
  },
  {
   "cell_type": "code",
   "execution_count": null,
   "metadata": {
    "deletable": false,
    "editable": false,
    "nbgrader": {
     "cell_type": "code",
     "checksum": "1fa4cd036338af85c9e9a6a930395789",
     "grade": false,
     "grade_id": "cell-387ca21cf5ad8eec",
     "locked": true,
     "schema_version": 3,
     "solution": false,
     "task": false
    }
   },
   "outputs": [],
   "source": [
    "import json\n",
    "\n",
    "def generate_json_file(data, filename):\n",
    "    try:\n",
    "        with open(filename, 'w') as f:\n",
    "            json.dump(data, f, indent=4)  # indent=4 for pretty printing (optional)\n",
    "        print(f\"JSON data saved to {filename}\")\n",
    "    except Exception as e:\n",
    "        print(f\"Error saving JSON data: {e}\")\n",
    "\n",
    "medical_data = {\n",
    "  \"symptoms\": {\n",
    "    \"headache\": [\"common cold\", \"flu\", \"migraine\", \"tension headache\", \"sinusitis\"],\n",
    "    \"fever\": [\"common cold\", \"flu\", \"infection\", \"strep throat\"],\n",
    "    \"cough\": [\"common cold\", \"flu\", \"bronchitis\", \"pneumonia\", \"allergies\"],\n",
    "    \"sneezing\": [\"common cold\", \"flu\", \"allergies\"],\n",
    "    \"fatigue\": [\"common cold\", \"flu\", \"stress\", \"lack of sleep\", \"anemia\"],\n",
    "    \"nausea\": [\"flu\", \"food poisoning\", \"stomach virus\", \"migraine\", \"pregnancy\"],\n",
    "    \"vomiting\": [\"flu\", \"food poisoning\", \"stomach virus\", \"motion sickness\"],\n",
    "    \"diarrhea\": [\"stomach virus\", \"food poisoning\", \"irritable bowel syndrome\", \"lactose intolerance\"],\n",
    "    \"rash\": [\"allergies\", \"chickenpox\", \"measles\", \"eczema\", \"poison ivy\"],\n",
    "    \"dizziness\": [\"dehydration\", \"inner ear infection\", \"low blood sugar\", \"vertigo\"],\n",
    "    \"weakness\": [\"muscle strain\", \"flu\", \"electrolyte imbalance\", \"multiple sclerosis\"],\n",
    "    \"insomnia\": [\"stress\", \"anxiety\", \"depression\", \"sleep apnea\"],\n",
    "    \"itchy\": [\"allergies\", \"eczema\", \"dry skin\", \"psoriasis\"],\n",
    "    \"bloating\": [\"irritable bowel syndrome\", \"lactose intolerance\", \"food intolerance\", \"celiac disease\", \"constipation\"],\n",
    "    \"chills\": [\"flu\", \"common cold\", \"pneumonia\", \"infection\", \"sepsis\"],\n",
    "    \"constipation\": [\"irritable bowel syndrome\", \"dehydration\", \"lack of fiber\", \"medication side effects\", \"hypothyroidism\"],\n",
    "    \"sweating\": [\"anxiety\", \"menopause\", \"hyperthyroidism\", \"low blood sugar\", \"infection\"],\n",
    "    \"thirst\": [\"dehydration\", \"diabetes\", \"kidney problems\", \"medication side effects\"],\n",
    "    \"tremors\": [\"anxiety\", \"Parkinson's disease\", \"multiple sclerosis\", \"alcohol withdrawal\", \"low blood sugar\"],\n",
    "    \"weight gain\": [\"thyroid disorders\", \"diabetes\", \"depression\", \"eating disorders\", \"certain medications\"],\n",
    "    \"weight loss\": [\"thyroid disorders\", \"diabetes\", \"depression\", \"eating disorders\", \"cancer\", \"certain medications\"],\n",
    "    \"burning\": [\"urinary tract infection\", \"heartburn\", \"acid reflux\", \"sunburn\", \"nerve pain\"],\n",
    "    \"cramps\": [\"menstrual cramps\", \"muscle cramps\", \"dehydration\", \"irritable bowel syndrome\"],\n",
    "    \"discharge\": [\"vaginal infection\", \"STI\", \"ear infection\"],\n",
    "    \"pain\": [\"arthritis\", \"injury\", \"infection\", \"nerve damage\", \"cancer\"],\n",
    "    \"swelling\": [\"injury\", \"inflammation\", \"infection\", \"lymphedema\", \"heart failure\"],\n",
    "    \"tingling\": [\"nerve damage\", \"vitamin deficiency\", \"multiple sclerosis\", \"diabetes\"]\n",
    "  },\n",
    "  \"recommendations\": {\n",
    "    \"common cold\": \"Rest, stay hydrated, and consider over-the-counter medications for symptom relief.\", \n",
    "    \"flu\": \"Rest, stay hydrated, and consider over-the-counter medications for symptom relief.\", \n",
    "    \"migraine\": \"Rest in a quiet, dark room. Apply a cold compress to your forehead. Consider over-the-counter pain relievers.\", \n",
    "    \"tension headache\": \"Apply a warm compress to your neck and shoulders. Practice stress management techniques. Consider over-the-counter pain relievers.\", \n",
    "    \"sinusitis\": \"Use a humidifier or saline nasal spray. Consider over-the-counter pain relievers and decongestants.\", \n",
    "    \"infection\": \"Consult a doctor for diagnosis and appropriate treatment, which may include antibiotics.\",\n",
    "    \"strep throat\": \"Consult a doctor for diagnosis and appropriate treatment, which usually involves antibiotics.\",\n",
    "    \"tonsillitis\": \"Gargle with salt water and drink warm liquids. Consider over-the-counter pain relievers.\", \n",
    "    \"allergies\": \"Identify and avoid allergens. Consider over-the-counter antihistamines.\", \n",
    "    \"bronchitis\": \"Rest, stay hydrated, and use a humidifier. Consider over-the-counter pain relievers and cough suppressants.\", \n",
    "    \"pneumonia\": \"Consult a doctor for diagnosis and appropriate treatment, which may include antibiotics.\",\n",
    "    \"muscle strain\": \"Rest the affected muscle, apply ice, and consider over-the-counter pain relievers.\", \n",
    "    \"stress\": \"Practice stress management techniques such as exercise, meditation, or deep breathing.\",\n",
    "    \"lack of sleep\": \"Aim for 7-9 hours of quality sleep per night. Establish a regular sleep schedule.\",\n",
    "    \"food poisoning\": \"Stay hydrated and rest. Consider over-the-counter medications for symptom relief.\", \n",
    "    \"stomach virus\": \"Stay hydrated and rest. Consider over-the-counter medications for symptom relief.\", \n",
    "    \"irritable bowel syndrome\": \"Consult a doctor for diagnosis and management strategies. Dietary changes and stress management may help.\",\n",
    "    \"chickenpox\": \"Consult a doctor for diagnosis and treatment. Isolate yourself to prevent spreading the virus.\",\n",
    "    \"measles\": \"Consult a doctor for diagnosis and treatment. Isolate yourself to prevent spreading the virus.\",\n",
    "    \"eczema\": \"Keep your skin moisturized. Avoid triggers that worsen your eczema.\", \n",
    "    \"asthma\": \"Use your prescribed inhaler as directed. Avoid triggers that worsen your asthma.\",\n",
    "    \"heart attack\": \"Seek immediate medical attention. Call emergency services or go to the nearest hospital.\",\n",
    "    \"angina\": \"Consult a doctor for diagnosis and treatment. Follow your doctor's recommendations for managing your condition.\",\n",
    "    \"anxiety\": \"Practice relaxation techniques such as deep breathing and meditation. Seek professional help if anxiety is persistent or severe.\",\n",
    "    \"appendicitis\": \"Seek immediate medical attention. Call emergency services or go to the nearest hospital.\",\n",
    "    \"stomach ulcer\": \"Consult a doctor for diagnosis and treatment. Avoid foods and medications that irritate your stomach.\",\n",
    "    \"menstrual cramps\": \"Apply heat to your lower abdomen. Consider over-the-counter pain relievers.\",\n",
    "    \"irritable bowel syndrome\": \"Consult a doctor for diagnosis and management strategies. Dietary changes and stress management may help.\",\n",
    "    \"lactose intolerance\": \"Avoid consuming lactose-containing products. Consider lactase supplements.\",\n",
    "    \"food intolerance\": \"Identify and avoid trigger foods. Consult a doctor or registered dietitian for guidance.\",\n",
    "    \"celiac disease\": \"Maintain a strict gluten-free diet. Consult a doctor or registered dietitian for management.\",\n",
    "    \"sepsis\": \"Seek immediate medical attention. Sepsis is a life-threatening condition.\",\n",
    "    \"hypothyroidism\": \"Consult a doctor for diagnosis and treatment, which typically involves hormone replacement therapy.\",\n",
    "    \"menopause\": \"Discuss hormone replacement therapy or other management options with your doctor. Manage symptoms with lifestyle changes.\",\n",
    "    \"hyperthyroidism\": \"Consult a doctor for diagnosis and treatment, which may include medication, radioactive iodine therapy, or surgery.\",\n",
    "    \"Parkinson's disease\": \"Consult a neurologist for diagnosis and a comprehensive treatment plan.\",\n",
    "    \"multiple sclerosis\": \"Consult a neurologist for diagnosis and a comprehensive treatment plan.\",\n",
    "    \"alcohol withdrawal\": \"Seek medical supervision for safe detoxification. Support groups and therapy can aid in recovery.\",\n",
    "    \"urinary tract infection\": \"Consult a doctor for diagnosis and treatment, which usually involves antibiotics.\",\n",
    "    \"heartburn\": \"Avoid trigger foods, eat smaller meals, and don't lie down immediately after eating. Consider over-the-counter antacids.\",\n",
    "    \"acid reflux\": \"Similar to heartburn, avoid trigger foods, eat smaller meals, and don't lie down immediately after eating. Consult a doctor if symptoms persist.\",\n",
    "    \"sunburn\": \"Apply cool compresses and aloe vera. Avoid further sun exposure. Use sunscreen regularly.\",\n",
    "    \"nerve pain\": \"Consult a doctor for diagnosis and treatment, which may include medication, physical therapy, or other therapies.\",\n",
    "    \"arthritis\": \"Consult a doctor for diagnosis and a treatment plan, which may include medication, physical therapy, and lifestyle changes.\",\n",
    "    \"lymphedema\": \"Consult a doctor or lymphedema specialist for management, which may include compression therapy and specialized exercises.\",\n",
    "    \"heart failure\": \"Consult a cardiologist for diagnosis and a comprehensive treatment plan, which may include medication, lifestyle changes, and other therapies.\",\n",
    "    \"vaginal infection\": \"Consult a doctor for diagnosis and treatment, which may depend on the type of infection.\",\n",
    "    \"STI\": \"Consult a doctor for diagnosis and treatment.\"\n",
    "  }\n",
    "}\n",
    "generate_json_file(medical_data, \"medical_data.json\")"
   ]
  },
  {
   "cell_type": "markdown",
   "metadata": {
    "deletable": false,
    "editable": false,
    "nbgrader": {
     "cell_type": "markdown",
     "checksum": "89688d455b149e33b6da467c6f81140d",
     "grade": false,
     "grade_id": "cell-1340cd320c0a6519",
     "locked": true,
     "schema_version": 3,
     "solution": false,
     "task": false
    }
   },
   "source": [
    "### Step 2.2: Load the data from the JSON knowledge base\n",
    "This file contains information about various symptoms, potential medical conditions, and general recommendations. Your chatbot will use this knowledge base to understand user input and provide helpful responses. The data could be loaded directly into a dictionary; however, this setup ensures modularity and will better translate if you want to further develop this project outside of the Jupyter environment in the future. \n",
    "\n",
    "Run the cell labeled **Step 2.2a** to load the knowledge base. The data will be displayed as a JSON dictionary."
   ]
  },
  {
   "cell_type": "markdown",
   "metadata": {
    "deletable": false,
    "editable": false,
    "nbgrader": {
     "cell_type": "markdown",
     "checksum": "1172979effec1801260423ed9c502170",
     "grade": false,
     "grade_id": "cell-8804dd5812d5877f",
     "locked": true,
     "schema_version": 3,
     "solution": false,
     "task": false
    }
   },
   "source": [
    "## Step 2.2a"
   ]
  },
  {
   "cell_type": "code",
   "execution_count": null,
   "metadata": {
    "deletable": false,
    "editable": false,
    "nbgrader": {
     "cell_type": "code",
     "checksum": "7018e9de0fe67cff8b7064d5e0562998",
     "grade": false,
     "grade_id": "cell-b8de6cea976cf2a7",
     "locked": true,
     "schema_version": 3,
     "solution": false,
     "task": false
    }
   },
   "outputs": [],
   "source": [
    "def print_json_from_file(filename):\n",
    "    \"\"\"Prints the contents of a JSON file to the console with indentation.\"\"\"\n",
    "    try:\n",
    "        with open(filename, 'r') as f:\n",
    "            data = json.load(f)  # Load the JSON data\n",
    "            print(json.dumps(data, indent=4)) # Print with indentation\n",
    "    except FileNotFoundError:\n",
    "        print(f\"Error: File '{filename}' not found.\")\n",
    "    except json.JSONDecodeError:\n",
    "        print(f\"Error: Invalid JSON format in '{filename}'.\")\n",
    "    except Exception as e:  # Catch any other potential errors\n",
    "        print(f\"An error occurred: {e}\")\n",
    "print_json_from_file(\"medical_data.json\")"
   ]
  },
  {
   "cell_type": "markdown",
   "metadata": {
    "deletable": false,
    "editable": false,
    "nbgrader": {
     "cell_type": "markdown",
     "checksum": "d0670c7a5b6b1183e77c6fffd248b617",
     "grade": false,
     "grade_id": "cell-53001ce6b0f10df5",
     "locked": true,
     "schema_version": 3,
     "solution": false,
     "task": false
    }
   },
   "source": [
    "## Step 3: Develop the chatbot logic\n",
    "Now it's time to build the core logic of your medical diagnosis assistant chatbot. You'll use `spaCy` to process user input, extract symptoms, and provide relevant responses based on the medical knowledge base."
   ]
  },
  {
   "cell_type": "markdown",
   "metadata": {
    "deletable": false,
    "editable": false,
    "nbgrader": {
     "cell_type": "markdown",
     "checksum": "038e77345e634b31cf0677bf1bba96a6",
     "grade": false,
     "grade_id": "cell-ac2d1162a9d740e2",
     "locked": true,
     "schema_version": 3,
     "solution": false,
     "task": false
    }
   },
   "source": [
    "### Step 3.1: Extract the symptoms\n",
    "The `extract_symptoms` function will process the user's input using `spaCy` to identify individual symptoms. It will iterate through each word (or token) in the input and check if its lowercase form matches any known symptom in the medical knowledge base. To avoid duplicates, it ensures that each symptom is added to the `extracted_symptoms` list only once. Finally, the function returns a list of unique symptoms found in the user's input.\n",
    "\n",
    "The code to process the `user_input` and initialize and then return the extracted symptoms has been provided. In the middle of the function locate the section labeled `### YOUR CODE HERE ###`.\n",
    "\n",
    "Hints:\n",
    " - Locate the area in **Step 3.1a** labeled `### YOUR CODE HERE ###`\n",
    " - You will need four lines of code to complete this function.\n",
    " - Sample code for testing purposes is provided at the bottom of the cell. This can be uncommented for testing purposes.\n",
    " - You can use a `for` loop to iterate through the tokens in the doc object.\n",
    " - The `.text` attribute of a token gives you the text of the token.\n",
    " - The `.lower()` method can be used to convert a string to lowercase.\n",
    " - The `in` operator can be used to check if a value exists in a dictionary or a list."
   ]
  },
  {
   "cell_type": "markdown",
   "metadata": {
    "deletable": false,
    "editable": false,
    "nbgrader": {
     "cell_type": "markdown",
     "checksum": "114c502bccbab3f2dda7a01a852ac367",
     "grade": false,
     "grade_id": "cell-1ff83ccb5a9b8676",
     "locked": true,
     "schema_version": 3,
     "solution": false,
     "task": false
    }
   },
   "source": [
    "### Step 3.1a"
   ]
  },
  {
   "cell_type": "code",
   "execution_count": null,
   "metadata": {},
   "outputs": [],
   "source": [
    "import spacy\n",
    "nlp = spacy.load(\"en_core_web_sm\")\n",
    "\n",
    "def extract_symptoms(user_input):\n",
    "    \"\"\"Extracts symptoms from user input using spaCy.\"\"\"\n",
    "    doc = nlp(user_input)\n",
    "    extracted_symptoms = []\n",
    "    ### YOUR CODE HERE ###\n",
    "\n",
    "    return extracted_symptoms\n",
    "\n",
    "user_input = \"I have a headache and a fever.\"\n",
    "user_symptoms = extract_symptoms(user_input)\n",
    "print(user_symptoms)"
   ]
  },
  {
   "cell_type": "code",
   "execution_count": null,
   "metadata": {
    "deletable": false,
    "editable": false,
    "nbgrader": {
     "cell_type": "code",
     "checksum": "798c1e2ed18907d5f6e40d611dc605e3",
     "grade": true,
     "grade_id": "cell-a4260876a0c54820",
     "locked": true,
     "points": 2,
     "schema_version": 3,
     "solution": false,
     "task": false
    }
   },
   "outputs": [],
   "source": [
    "# Checking your Results\n"
   ]
  },
  {
   "cell_type": "markdown",
   "metadata": {
    "deletable": false,
    "editable": false,
    "nbgrader": {
     "cell_type": "markdown",
     "checksum": "8d131a62f52fdf08b2e2bdc2cb13f03b",
     "grade": false,
     "grade_id": "cell-1cfb44d0871b5616",
     "locked": true,
     "schema_version": 3,
     "solution": false,
     "task": false
    }
   },
   "source": [
    "## Step 3.2: Analyze the symptoms\n",
    "The `analyze_symptoms` function takes a list of extracted symptoms and determines the possible medical conditions associated with those symptoms.  It uses the `medical_data` dictionary to look up the conditions linked to each symptom. For every symptom provided, it iterates through the corresponding list of potential conditions and tallies how often each condition appears. The function ultimately returns a dictionary containing each possible condition along with a count of how many input symptoms are associated with it. This count helps determine the likelihood of each condition. \n",
    "Hints:\n",
    " - Locate the area in **Step 3.2a** labeled `### YOUR CODE HERE ###`\n",
    " - You will need five lines of code to complete this function.\n",
    " - Sample code for testing purposes is provided in the *# Checking your Results* cell below.\n",
    " - This step involves a `for` loop, followed by an if statement, followed by another if statement, plus one other line of code.\n",
    " - You can use a `for` loop to iterate through the `extracted_symptoms` list and the list of conditions for each symptom.\n",
    " - The `in` operator can be used to check if a key exists in a dictionary.\n",
    " - Example: If the `extracted_symptoms` list is `[\"headache\", \"fever\"]`, the code should analyze these symptoms based on the `medical_data` and return a dictionary like this:\n",
    " \n",
    "```\n",
    "{\n",
    "\t\"common cold\": 2,\t\t# headache and fever match common cold\n",
    "\t\"flu\": 2,\t\t\t\t# headache and fever match flu\n",
    "\t\"migraine\": 1,\t\t\t# headache matches migraine\n",
    "\t\"tension headache\": 1,  # headache matches tension headache\n",
    "\t\"sinusitis\": 1,\t\t\t# Only headache matches sinusitis\n",
    "\t\"infection\": 1,\t\t\t# Only fever matches infection\n",
    "\t\"strep throat\": 1\t\t# Only fever matches strep throat\n",
    "}\n",
    "```\n",
    " - The goal is to count how many times each possible condition appears across the given symptoms.\n",
    " - The `possible_conditions` dictionary should contain the conditions as keys and their counts as values.\n"
   ]
  },
  {
   "cell_type": "markdown",
   "metadata": {
    "deletable": false,
    "editable": false,
    "nbgrader": {
     "cell_type": "markdown",
     "checksum": "58f521085bfeafb55394100937dd9a0a",
     "grade": false,
     "grade_id": "cell-c06a7951fb826e72",
     "locked": true,
     "schema_version": 3,
     "solution": false,
     "task": false
    }
   },
   "source": [
    "## Step 3.2a"
   ]
  },
  {
   "cell_type": "code",
   "execution_count": null,
   "metadata": {},
   "outputs": [],
   "source": [
    "def analyze_symptoms(extracted_symptoms):\n",
    "    \"\"\"Analyzes symptoms and returns possible conditions with counts.\"\"\"\n",
    "    possible_conditions = {}  # Use a dictionary to count occurrences\n",
    "    for symptom in extracted_symptoms:\n",
    "        ### YOUR CODE HERE ###\n",
    "\n",
    "    return possible_conditions\n"
   ]
  },
  {
   "cell_type": "code",
   "execution_count": null,
   "metadata": {
    "deletable": false,
    "editable": false,
    "nbgrader": {
     "cell_type": "code",
     "checksum": "1378de448dd0472f4c2fc4dcd7b5692c",
     "grade": true,
     "grade_id": "cell-03c5bf4edf67f6f7",
     "locked": true,
     "points": 2,
     "schema_version": 3,
     "solution": false,
     "task": false
    }
   },
   "outputs": [],
   "source": [
    "# Checking your Results\n",
    "extracted_symptoms = [\"headache\", \"fever\"]  \n",
    "possible_conditions = analyze_symptoms(extracted_symptoms)\n",
    "print(extracted_symptoms)\n",
    "print(possible_conditions)\n"
   ]
  },
  {
   "cell_type": "markdown",
   "metadata": {
    "deletable": false,
    "editable": false,
    "nbgrader": {
     "cell_type": "markdown",
     "checksum": "434f9497d0f5e9c3081283bb1f603ac0",
     "grade": false,
     "grade_id": "cell-5daf7f442d648d29",
     "locked": true,
     "schema_version": 3,
     "solution": false,
     "task": false
    }
   },
   "source": [
    "## Step 3.3: Generate responses\n",
    "\n",
    "The `generate_response` function takes the extracted symptoms and possible conditions as input and constructs a response for the user. If no symptoms are recognized, it informs the user. Otherwise, it acknowledges the symptoms and, if applicable, presents the possible conditions sorted by their likelihood, along with corresponding recommendations from the medical knowledge base. If no matching conditions are found, it informs the user accordingly. Finally, it adds a disclaimer advising the user to consult a doctor for definitive medical advice.\n",
    "\n",
    "Hints:\n",
    " - Locate the area in **Step 3.3a** labeled `### YOUR CODE HERE ###`\n",
    " - You will need five lines of code to complete this function.\n",
    " - Sample code for testing purposes is provided in the *# Checking your Results* cell below.\n",
    " - The `items()` method of a dictionary can be used to iterate through its key-value pairs.\n",
    " - The in operator can be used to check if a key exists in a dictionary.\n",
    " - Example: If the `possible_conditions` dictionary is:\n",
    "```\n",
    "\t{\n",
    "\t\t\"common cold\": 2,\n",
    "\t\t\"flu\": 2,\n",
    "\t\t\"migraine\": 1\n",
    "\t}\n",
    "```\n",
    " - The code should generate a response like this:\n",
    "\n",
    "```\n",
    "Based on your symptoms, the most likely possibilities are:\n",
    "\t- common cold (2 matching symptom(s))\n",
    "\t\t* Rest, stay hydrated, and consider over-the-counter medications for symptom relief.\n",
    "\t- flu (2 matching symptom(s))\n",
    "\t\t* Rest, stay hydrated, and consider over-the-counter medications for symptom relief.\n",
    "\t- migraine (1 matching symptom(s))\n",
    "\t\t* Rest in a quiet, dark room. Apply a cold compress to your forehead. Consider over-the-counter pain relievers.\n",
    "```\n"
   ]
  },
  {
   "cell_type": "markdown",
   "metadata": {
    "deletable": false,
    "editable": false,
    "nbgrader": {
     "cell_type": "markdown",
     "checksum": "e191472ff01590003877a8b665955df3",
     "grade": false,
     "grade_id": "cell-4ea6521016756cbe",
     "locked": true,
     "schema_version": 3,
     "solution": false,
     "task": false
    }
   },
   "source": [
    "### Step 3.3a"
   ]
  },
  {
   "cell_type": "code",
   "execution_count": null,
   "metadata": {},
   "outputs": [],
   "source": [
    "def generate_response(extracted_symptoms, possible_conditions):\n",
    "    \"\"\"Generates a response based on extracted symptoms and possible conditions.\"\"\"\n",
    "    response = \"\"\n",
    "    if extracted_symptoms:\n",
    "        response += \"I understand you have \" + \", \".join(extracted_symptoms) + \".\"  # Moved this line inside the if block\n",
    "\n",
    "        if possible_conditions:\n",
    "            sorted_conditions = sorted(possible_conditions.items(), key=lambda item: item[1], reverse=True)  # Sort by count\n",
    "            ### YOUR CODE HERE ###\n",
    "\n",
    "        else:\n",
    "            response += \"\\nI'm sorry, I don't recognize those symptoms.\\n\" \n",
    "    else:\n",
    "        response = \"I'm sorry, I didn't recognize any symptoms in your description.\" \n",
    "\n",
    "    response += \"Remember, I am just a chatbot and cannot provide definitive medical advice. Please consult a doctor for proper diagnosis and treatment.\"\n",
    "    return response\n",
    "\n"
   ]
  },
  {
   "cell_type": "code",
   "execution_count": null,
   "metadata": {
    "deletable": false,
    "editable": false,
    "nbgrader": {
     "cell_type": "code",
     "checksum": "46100045ef1c88ee5fdcd71caab8ae75",
     "grade": true,
     "grade_id": "cell-03e9932d226b60f6",
     "locked": true,
     "points": 2,
     "schema_version": 3,
     "solution": false,
     "task": false
    }
   },
   "outputs": [],
   "source": [
    "# Checking your Results\n",
    "extracted_symptoms = [\"headache\", \"fever\"]\n",
    "possible_conditions = {\n",
    "    \"common cold\": 2,\n",
    "    \"flu\": 2,\n",
    "    \"migraine\": 1\n",
    "}\n",
    "print(generate_response(extracted_symptoms, possible_conditions))\n"
   ]
  },
  {
   "cell_type": "markdown",
   "metadata": {
    "deletable": false,
    "editable": false,
    "nbgrader": {
     "cell_type": "markdown",
     "checksum": "37c898da4ccfe3e078458fab5ecac035",
     "grade": false,
     "grade_id": "cell-058df3e1317a9a86",
     "locked": true,
     "schema_version": 3,
     "solution": false,
     "task": false
    }
   },
   "source": [
    "## Step 3.4: Test the program\n",
    "\n",
    "Run the cell for Step **3.4a**. No changes are necessary to this cell. Ensure you are able to get a diagnosis."
   ]
  },
  {
   "cell_type": "markdown",
   "metadata": {
    "deletable": false,
    "editable": false,
    "nbgrader": {
     "cell_type": "markdown",
     "checksum": "4c76c73cb627382be31cfd82d5001bed",
     "grade": false,
     "grade_id": "cell-57512b689a73fe8e",
     "locked": true,
     "schema_version": 3,
     "solution": false,
     "task": false
    }
   },
   "source": [
    "### Step 3.4a"
   ]
  },
  {
   "cell_type": "code",
   "execution_count": null,
   "metadata": {
    "deletable": false,
    "editable": false,
    "nbgrader": {
     "cell_type": "code",
     "checksum": "28f9779ed7d68ac0aea17504efa686dd",
     "grade": false,
     "grade_id": "cell-2d363723b32521da",
     "locked": true,
     "schema_version": 3,
     "solution": false,
     "task": false
    }
   },
   "outputs": [],
   "source": [
    "possible_conditions = []\n",
    "extracted_symptoms = []\n",
    "\n",
    "# Get user's symptoms\n",
    "user_input = input(\"Please enter your primary concern: \")\n",
    "\n",
    "# Extract symptoms\n",
    "extracted_symptoms = extract_symptoms(user_input)\n",
    "\n",
    "# Analyze symptoms\n",
    "possible_conditions = analyze_symptoms(extracted_symptoms)\n",
    "\n",
    "# Generate initial response\n",
    "response = generate_response(extracted_symptoms, possible_conditions)\n",
    "print(\"Chatbot:\", response)"
   ]
  },
  {
   "cell_type": "markdown",
   "metadata": {
    "deletable": false,
    "editable": false,
    "nbgrader": {
     "cell_type": "markdown",
     "checksum": "fd69b8c23155cc99566cc3265f012643",
     "grade": false,
     "grade_id": "cell-01768acf0afafc79",
     "locked": true,
     "schema_version": 3,
     "solution": false,
     "task": false
    }
   },
   "source": [
    "## Step 4: Enhance the chatbot with multi-turn conversation\n",
    "\n",
    "Step 4 implements a loop that repeatedly asks the user for additional symptoms. Inside the loop, the chatbot takes the user's input and checks if they want to add more symptoms. If they do, it extracts any valid symptoms from their input and adds them to the list of extracted symptoms. It then re-analyzes the updated list of symptoms and generates a new response with the updated diagnosis and recommendations. If the user doesn't enter any new symptoms or enters an invalid symptom, the chatbot prompts them to try again. After the user finishes entering symptoms, the chatbot prints the final response with the complete diagnosis and recommendations."
   ]
  },
  {
   "cell_type": "markdown",
   "metadata": {
    "deletable": false,
    "editable": false,
    "nbgrader": {
     "cell_type": "markdown",
     "checksum": "f40c4d3033f1080d943fb871836c3594",
     "grade": false,
     "grade_id": "cell-6cddb91d754c635d",
     "locked": true,
     "schema_version": 3,
     "solution": false,
     "task": false
    }
   },
   "source": [
    "## Step 4.1: Complete multi-turn conversation\n",
    "\n",
    "Complete the code to better handle a multi-turn conversation.\n",
    "\n",
    "Hints:\n",
    " - Locate the area in **Step 4.1a** labeled `### YOUR CODE HERE ###`\n",
    " - You will need two lines of code to complete this function.\n",
    " - Update the diagnosis: After adding the `new_symptoms` to the `extracted_symptoms` list, you need to re-analyze the symptoms to update the possible conditions. Use the `analyze_symptoms()` function for this.\n",
    " - Generate a new response: After re-analyzing the symptoms, generate an updated response using the `generate_response()` function. Make sure to use the updated `extracted_symptoms` and `possible_conditions` as arguments.\n",
    " \n",
    "Run the cell to test the program.\n"
   ]
  },
  {
   "cell_type": "markdown",
   "metadata": {
    "deletable": false,
    "editable": false,
    "nbgrader": {
     "cell_type": "markdown",
     "checksum": "93fc2d3ff26d9a44b4e3678571d31ba6",
     "grade": false,
     "grade_id": "cell-6d29e5e8849d38ac",
     "locked": true,
     "schema_version": 3,
     "solution": false,
     "task": false
    }
   },
   "source": [
    "### Step 4.1a"
   ]
  },
  {
   "cell_type": "code",
   "execution_count": null,
   "metadata": {},
   "outputs": [],
   "source": [
    "while True:\n",
    "    additional_symptoms = input(\"Please enter an additional symptom, or 'no' if you have no more: \")\n",
    "    if additional_symptoms.lower() in (\"no\", \"nope\", \"none\"):\n",
    "        break  # Exit the loop if the user has no more symptoms\n",
    "\n",
    "    new_symptoms = extract_symptoms(additional_symptoms)\n",
    "    if new_symptoms:  # Only add and analyze if new symptoms are found\n",
    "        extracted_symptoms.extend(new_symptoms)\n",
    "        ### YOUR CODE HERE ###\n",
    "\n",
    "        print(\"Chatbot:\", response)  # Print the updated response\n",
    "    else:\n",
    "        print(\"Chatbot: I didn't recognize that symptom. Please try again.\")\n",
    "\n",
    "print(\"Chatbot:\", response)"
   ]
  },
  {
   "cell_type": "code",
   "execution_count": null,
   "metadata": {
    "deletable": false,
    "editable": false,
    "nbgrader": {
     "cell_type": "code",
     "checksum": "800b79e991ad543cd114da1f3fb5a5f7",
     "grade": true,
     "grade_id": "cell-2df89190aa3d7dfc",
     "locked": true,
     "points": 2,
     "schema_version": 3,
     "solution": false,
     "task": false
    }
   },
   "outputs": [],
   "source": [
    "# Checking your Results"
   ]
  },
  {
   "cell_type": "markdown",
   "metadata": {
    "deletable": false,
    "editable": false,
    "nbgrader": {
     "cell_type": "markdown",
     "checksum": "676acffd27b56845417c6e19f1a0b1b2",
     "grade": false,
     "grade_id": "cell-507f77c93aa7d706",
     "locked": true,
     "schema_version": 3,
     "solution": false,
     "task": false
    }
   },
   "source": [
    "## End of project and areas for improvement\n",
    "\n",
    "Congratulations on completing your medical diagnosis assistant chatbot! You've successfully built a chatbot that can:\n",
    " - Extract symptoms from user input using `spaCy`.\n",
    " - Analyze symptoms to identify potential medical conditions.\n",
    " - Provide basic recommendations and advice.\n",
    " - Engage in a multi-turn conversation.\n",
    "\n",
    "However, as with any real-world project, there's always room for improvement. Here are some areas you could explore to enhance your chatbot:\n",
    " - **More sophisticated diagnostic logic:** Consider implementing more advanced techniques like weighted symptoms, symptom combinations, or decision trees to improve the accuracy of the diagnosis. For example, you could assign higher weights to more severe symptoms or create rules to identify specific combinations of symptoms that indicate particular conditions.\n",
    " - **Contextual awareness:** Enhance the chatbot's ability to understand and utilize the context of the conversation to provide more relevant responses.\n",
    " - **User-specific information:** Incorporate user details like age, gender, and medical history to personalize the diagnosis and recommendations. For example, you could avoid suggesting \"menstrual cramps\" as a possible condition for a male user.\n",
    " - **Error handling:** Improve the chatbot's robustness by adding more comprehensive error handling for various scenarios, such as invalid input or missing data.\n",
    " - **External knowledge bases:** Explore integrating more extensive medical knowledge bases or ontologies to provide a wider range of diagnoses and more detailed information.\n",
    " - **Ethical considerations:** Continue to refine the chatbot's responses to ensure they are responsible, ethical, and prioritize the user's well-being. Always emphasize the importance of consulting a medical professional for accurate diagnosis and treatment.\n",
    " \n",
    "By exploring these areas for improvement, you can further develop your chatbot into a more sophisticated, reliable, and helpful tool for preliminary medical diagnosis.\n"
   ]
  }
 ],
 "metadata": {
  "kernelspec": {
   "display_name": "Python 3 (ipykernel)",
   "language": "python",
   "name": "python3"
  },
  "language_info": {
   "codemirror_mode": {
    "name": "ipython",
    "version": 3
   },
   "file_extension": ".py",
   "mimetype": "text/x-python",
   "name": "python",
   "nbconvert_exporter": "python",
   "pygments_lexer": "ipython3",
   "version": "3.10.6"
  }
 },
 "nbformat": 4,
 "nbformat_minor": 2
}
